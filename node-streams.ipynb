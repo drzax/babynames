{
  "cells": [
    {
      "cell_type": "markdown",
      "source": [
        "# Fun with names\n",
        "\n",
        "Exploring baby name data. The goal of the code here is to transform baby name data from a few different sources (and ∴ formats) into a consistent format that can be used for summarising various characteristics.\n",
        "\n",
        "The consistent format should look like:\n",
        "\n",
        "| year | gender | name | count |\n",
        "|------|--------|------|--------|\n",
        "| YYYY | M or F| name | Int |\n",
        "\n"
      ],
      "metadata": {}
    },
    {
      "cell_type": "code",
      "source": [
        "// Dependencieas\n",
        "var request = require('request');\n",
        "var fs = require('fs');\n",
        "var vfs = require('vinyl-fs');\n",
        "var stringify = require('csv-stringify');\n",
        "var through2 = require('through2');\n",
        "var {csvRows, saParseRow, skip, sum} = require('./stream/transforms');"
      ],
      "outputs": [],
      "execution_count": 1,
      "metadata": {
        "collapsed": false,
        "outputHidden": false,
        "inputHidden": false
      }
    },
    {
      "cell_type": "markdown",
      "source": [
        "Anything that's re-usable or composable (mostly through streams) should be factored out a file of its own."
      ],
      "metadata": {}
    },
    {
      "cell_type": "code",
      "source": [
        "\n\n",
        "var stream = vfs.src('./data-au/sa/*.csv', {buffer: false});\n",
        "stream = stream\n",
        "    .pipe(csvRows(skip(1)));\n",
        "stream = stream    .pipe(saParseRow());\n",
        "    .pipe(sum())\n",
        "    .pipe(stringify())\n",
        "    .pipe(fs.createWriteStream('output/test.csv'));"
      ],
      "outputs": [
        {
          "output_type": "stream",
          "name": "stdout",
          "text": [
            "transform <File \"female_1944.csv\" <FirstChunkStream>>\n"
          ]
        },
        {
          "output_type": "stream",
          "name": "stderr",
          "text": [
            "TypeError: dest.on is not a function\n",
            "    at Parser.Readable.pipe (_stream_readable.js:501:8)\n",
            "    at DestroyableTransform._transform (/Users/elverys7d/Projects/babynames/stream/transforms.js:89:23)\n",
            "    at DestroyableTransform.Transform._read (/Users/elverys7d/Projects/babynames/node_modules/readable-stream/lib/_stream_transform.js:182:10)\n",
            "    at DestroyableTransform.Transform._write (/Users/elverys7d/Projects/babynames/node_modules/readable-stream/lib/_stream_transform.js:170:83)\n",
            "    at doWrite (/Users/elverys7d/Projects/babynames/node_modules/readable-stream/lib/_stream_writable.js:406:64)\n",
            "    at writeOrBuffer (/Users/elverys7d/Projects/babynames/node_modules/readable-stream/lib/_stream_writable.js:395:5)\n",
            "    at DestroyableTransform.Writable.write (/Users/elverys7d/Projects/babynames/node_modules/readable-stream/lib/_stream_writable.js:322:11)\n",
            "    at DestroyableTransform.ondata (/Users/elverys7d/Projects/babynames/node_modules/readable-stream/lib/_stream_readable.js:612:20)\n",
            "    at emitOne (events.js:96:13)\n",
            "    at DestroyableTransform.emit (events.js:188:7)"
          ]
        }
      ],
      "execution_count": 2,
      "metadata": {
        "collapsed": false,
        "outputHidden": false,
        "inputHidden": false
      }
    },
    {
      "cell_type": "code",
      "source": [
        "request('https://data.sa.gov.au/data/dataset/9849aa7f-e316-426e-8ab5-74658a62c7e6/resource/534d13f2-237c-4448-a6a3-93c07b1bb614/download/baby-names-1944-2013.zip')"
      ],
      "outputs": [
        {
          "output_type": "error",
          "ename": "ReferenceError",
          "evalue": "request is not defined",
          "traceback": [
            "ReferenceError: request is not defined",
            "    at evalmachine.<anonymous>:1:1",
            "    at ContextifyScript.Script.runInThisContext (vm.js:25:33)",
            "    at Object.exports.runInThisContext (vm.js:77:17)",
            "    at run ([eval]:613:19)",
            "    at onRunRequest ([eval]:384:22)",
            "    at onMessage ([eval]:352:17)",
            "    at emitTwo (events.js:106:13)",
            "    at process.emit (events.js:191:7)",
            "    at process.nextTick (internal/child_process.js:744:12)",
            "    at _combinedTickCallback (internal/process/next_tick.js:67:7)"
          ]
        }
      ],
      "execution_count": 1,
      "metadata": {
        "collapsed": false,
        "outputHidden": false,
        "inputHidden": false
      }
    },
    {
      "cell_type": "markdown",
      "source": [
        "Things to filter by:\n",
        "- year\n",
        "- overall prevalence\n",
        "- maximum prevalence\n",
        "- trajectory?"
      ],
      "metadata": {
        "collapsed": false,
        "outputHidden": false,
        "inputHidden": false
      }
    },
    {
      "cell_type": "markdown",
      "source": [],
      "metadata": {}
    },
    {
      "cell_type": "markdown",
      "source": [],
      "metadata": {}
    },
    {
      "cell_type": "markdown",
      "source": [],
      "metadata": {}
    },
    {
      "cell_type": "markdown",
      "source": [],
      "metadata": {}
    },
    {
      "cell_type": "markdown",
      "source": [],
      "metadata": {}
    },
    {
      "cell_type": "markdown",
      "source": [],
      "metadata": {}
    },
    {
      "cell_type": "markdown",
      "source": [],
      "metadata": {}
    },
    {
      "cell_type": "markdown",
      "source": [],
      "metadata": {}
    },
    {
      "cell_type": "markdown",
      "source": [],
      "metadata": {}
    },
    {
      "cell_type": "markdown",
      "source": [],
      "metadata": {}
    },
    {
      "cell_type": "markdown",
      "source": [],
      "metadata": {}
    },
    {
      "cell_type": "markdown",
      "source": [],
      "metadata": {}
    },
    {
      "cell_type": "markdown",
      "source": [],
      "metadata": {}
    },
    {
      "cell_type": "markdown",
      "source": [],
      "metadata": {}
    }
  ],
  "metadata": {
    "kernelspec": {
      "name": "node_nteract",
      "language": "javascript",
      "display_name": "Node.js (nteract)"
    },
    "kernel_info": {
      "name": "node_nteract"
    },
    "language_info": {
      "name": "javascript",
      "version": "6.5.0",
      "mimetype": "application/javascript",
      "file_extension": ".js"
    }
  },
  "nbformat": 4,
  "nbformat_minor": 4
}